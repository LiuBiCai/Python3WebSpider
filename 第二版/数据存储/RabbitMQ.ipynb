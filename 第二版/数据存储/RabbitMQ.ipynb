{
 "cells": [
  {
   "cell_type": "code",
   "execution_count": 4,
   "metadata": {},
   "outputs": [],
   "source": [
    "import pika\n"
   ]
  },
  {
   "attachments": {},
   "cell_type": "markdown",
   "metadata": {},
   "source": [
    "声明频道和队列"
   ]
  },
  {
   "cell_type": "code",
   "execution_count": 5,
   "metadata": {},
   "outputs": [
    {
     "data": {
      "text/plain": [
       "<METHOD(['channel_number=1', 'frame_type=1', \"method=<Queue.DeclareOk(['consumer_count=0', 'message_count=3', 'queue=scrape'])>\"])>"
      ]
     },
     "execution_count": 5,
     "metadata": {},
     "output_type": "execute_result"
    }
   ],
   "source": [
    "QUEUE_NAME='scrape'\n",
    "connection=pika.BlockingConnection(pika.ConnectionParameters('localhost'))\n",
    "channel=connection.channel()\n",
    "channel.queue_declare(queue=QUEUE_NAME)"
   ]
  },
  {
   "attachments": {},
   "cell_type": "markdown",
   "metadata": {},
   "source": [
    "生产消息"
   ]
  },
  {
   "cell_type": "code",
   "execution_count": 12,
   "metadata": {},
   "outputs": [
    {
     "ename": "ChannelWrongStateError",
     "evalue": "Channel is closed.",
     "output_type": "error",
     "traceback": [
      "\u001b[1;31m---------------------------------------------------------------------------\u001b[0m",
      "\u001b[1;31mChannelWrongStateError\u001b[0m                    Traceback (most recent call last)",
      "\u001b[1;32mc:\\Users\\liubi\\source\\repos\\Python3WebSpider\\第二版\\数据存储\\RabbitMQ.ipynb Cell 5\u001b[0m in \u001b[0;36m<cell line: 1>\u001b[1;34m()\u001b[0m\n\u001b[1;32m----> <a href='vscode-notebook-cell:/c%3A/Users/liubi/source/repos/Python3WebSpider/%E7%AC%AC%E4%BA%8C%E7%89%88/%E6%95%B0%E6%8D%AE%E5%AD%98%E5%82%A8/RabbitMQ.ipynb#W4sZmlsZQ%3D%3D?line=0'>1</a>\u001b[0m channel\u001b[39m.\u001b[39;49mbasic_publish(exchange\u001b[39m=\u001b[39;49m\u001b[39m'\u001b[39;49m\u001b[39m'\u001b[39;49m,routing_key\u001b[39m=\u001b[39;49mQUEUE_NAME,body\u001b[39m=\u001b[39;49m\u001b[39m'\u001b[39;49m\u001b[39mHello World\u001b[39;49m\u001b[39m'\u001b[39;49m)\n",
      "File \u001b[1;32mc:\\Users\\liubi\\AppData\\Local\\Programs\\Python\\Python310\\lib\\site-packages\\pika\\adapters\\blocking_connection.py:2259\u001b[0m, in \u001b[0;36mBlockingChannel.basic_publish\u001b[1;34m(self, exchange, routing_key, body, properties, mandatory)\u001b[0m\n\u001b[0;32m   2256\u001b[0m                 \u001b[39mraise\u001b[39;00m exceptions\u001b[39m.\u001b[39mUnroutableError(messages)\n\u001b[0;32m   2257\u001b[0m \u001b[39melse\u001b[39;00m:\n\u001b[0;32m   2258\u001b[0m     \u001b[39m# In non-publisher-acknowledgments mode\u001b[39;00m\n\u001b[1;32m-> 2259\u001b[0m     \u001b[39mself\u001b[39;49m\u001b[39m.\u001b[39;49m_impl\u001b[39m.\u001b[39;49mbasic_publish(\n\u001b[0;32m   2260\u001b[0m         exchange\u001b[39m=\u001b[39;49mexchange,\n\u001b[0;32m   2261\u001b[0m         routing_key\u001b[39m=\u001b[39;49mrouting_key,\n\u001b[0;32m   2262\u001b[0m         body\u001b[39m=\u001b[39;49mbody,\n\u001b[0;32m   2263\u001b[0m         properties\u001b[39m=\u001b[39;49mproperties,\n\u001b[0;32m   2264\u001b[0m         mandatory\u001b[39m=\u001b[39;49mmandatory)\n\u001b[0;32m   2265\u001b[0m     \u001b[39mself\u001b[39m\u001b[39m.\u001b[39m_flush_output()\n",
      "File \u001b[1;32mc:\\Users\\liubi\\AppData\\Local\\Programs\\Python\\Python310\\lib\\site-packages\\pika\\channel.py:423\u001b[0m, in \u001b[0;36mChannel.basic_publish\u001b[1;34m(self, exchange, routing_key, body, properties, mandatory)\u001b[0m\n\u001b[0;32m    405\u001b[0m \u001b[39mdef\u001b[39;00m \u001b[39mbasic_publish\u001b[39m(\u001b[39mself\u001b[39m,\n\u001b[0;32m    406\u001b[0m                   exchange,\n\u001b[0;32m    407\u001b[0m                   routing_key,\n\u001b[0;32m    408\u001b[0m                   body,\n\u001b[0;32m    409\u001b[0m                   properties\u001b[39m=\u001b[39m\u001b[39mNone\u001b[39;00m,\n\u001b[0;32m    410\u001b[0m                   mandatory\u001b[39m=\u001b[39m\u001b[39mFalse\u001b[39;00m):\n\u001b[0;32m    411\u001b[0m     \u001b[39m\"\"\"Publish to the channel with the given exchange, routing key and body.\u001b[39;00m\n\u001b[0;32m    412\u001b[0m \u001b[39m    For more information on basic_publish and what the parameters do, see:\u001b[39;00m\n\u001b[0;32m    413\u001b[0m \n\u001b[1;32m   (...)\u001b[0m\n\u001b[0;32m    421\u001b[0m \n\u001b[0;32m    422\u001b[0m \u001b[39m    \"\"\"\u001b[39;00m\n\u001b[1;32m--> 423\u001b[0m     \u001b[39mself\u001b[39;49m\u001b[39m.\u001b[39;49m_raise_if_not_open()\n\u001b[0;32m    424\u001b[0m     \u001b[39mif\u001b[39;00m \u001b[39misinstance\u001b[39m(body, unicode_type):\n\u001b[0;32m    425\u001b[0m         body \u001b[39m=\u001b[39m body\u001b[39m.\u001b[39mencode(\u001b[39m'\u001b[39m\u001b[39mutf-8\u001b[39m\u001b[39m'\u001b[39m)\n",
      "File \u001b[1;32mc:\\Users\\liubi\\AppData\\Local\\Programs\\Python\\Python310\\lib\\site-packages\\pika\\channel.py:1403\u001b[0m, in \u001b[0;36mChannel._raise_if_not_open\u001b[1;34m(self)\u001b[0m\n\u001b[0;32m   1401\u001b[0m \u001b[39m# Assumed self.CLOSED\u001b[39;00m\n\u001b[0;32m   1402\u001b[0m \u001b[39massert\u001b[39;00m \u001b[39mself\u001b[39m\u001b[39m.\u001b[39m_state \u001b[39m==\u001b[39m \u001b[39mself\u001b[39m\u001b[39m.\u001b[39mCLOSED\n\u001b[1;32m-> 1403\u001b[0m \u001b[39mraise\u001b[39;00m exceptions\u001b[39m.\u001b[39mChannelWrongStateError(\u001b[39m'\u001b[39m\u001b[39mChannel is closed.\u001b[39m\u001b[39m'\u001b[39m)\n",
      "\u001b[1;31mChannelWrongStateError\u001b[0m: Channel is closed."
     ]
    }
   ],
   "source": [
    "channel.basic_publish(exchange='',routing_key=QUEUE_NAME,body='Hello World')"
   ]
  },
  {
   "attachments": {},
   "cell_type": "markdown",
   "metadata": {},
   "source": [
    "订阅模式的消费者"
   ]
  },
  {
   "cell_type": "code",
   "execution_count": null,
   "metadata": {},
   "outputs": [],
   "source": [
    "def callback(ch,method,properties,body):\n",
    "    print(f\"Get {body}\")\n",
    "channel.basic_consume(queue=QUEUE_NAME,auto_ack=True,on_message_callback=callback)\n",
    "channel.start_consuming()"
   ]
  },
  {
   "attachments": {},
   "cell_type": "markdown",
   "metadata": {},
   "source": [
    "生产消息"
   ]
  },
  {
   "cell_type": "code",
   "execution_count": null,
   "metadata": {},
   "outputs": [],
   "source": [
    "while True:\n",
    "    data=input()\n",
    "    channel.basic_publish(exchange='',routing_key=QUEUE_NAME,body=data)\n",
    "    print(f'Put {data}')"
   ]
  },
  {
   "attachments": {},
   "cell_type": "markdown",
   "metadata": {},
   "source": [
    "随用随取的消费模式"
   ]
  },
  {
   "cell_type": "code",
   "execution_count": 6,
   "metadata": {},
   "outputs": [
    {
     "name": "stdout",
     "output_type": "stream",
     "text": [
      "Get b'foo'\n",
      "Get b'bar'\n",
      "Get b'baz'\n"
     ]
    }
   ],
   "source": [
    "while True:\n",
    "    input()\n",
    "    method_frame,header,body=channel.basic_get(queue=QUEUE_NAME,auto_ack=True)\n",
    "    if body:\n",
    "        print(f'Get {body}')"
   ]
  }
 ],
 "metadata": {
  "kernelspec": {
   "display_name": "Python 3",
   "language": "python",
   "name": "python3"
  },
  "language_info": {
   "codemirror_mode": {
    "name": "ipython",
    "version": 3
   },
   "file_extension": ".py",
   "mimetype": "text/x-python",
   "name": "python",
   "nbconvert_exporter": "python",
   "pygments_lexer": "ipython3",
   "version": "3.10.5"
  },
  "orig_nbformat": 4,
  "vscode": {
   "interpreter": {
    "hash": "3a42c04f5095fbdc1582f2ec9caa4673319f7b4beaf1335dc026ea3e421f2fec"
   }
  }
 },
 "nbformat": 4,
 "nbformat_minor": 2
}
