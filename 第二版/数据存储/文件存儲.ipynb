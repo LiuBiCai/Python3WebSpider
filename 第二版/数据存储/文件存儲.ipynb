{
 "cells": [
  {
   "cell_type": "markdown",
   "metadata": {},
   "source": [
    "CSV"
   ]
  },
  {
   "cell_type": "code",
   "execution_count": 13,
   "metadata": {},
   "outputs": [],
   "source": [
    "import pandas as pd\n",
    "\n",
    "data=[\n",
    "\t{'id':'10001','name':'Mike','age':20},\n",
    "\t{'id':'10002','name':'Bob','age':22},\n",
    "]\n",
    "df=pd.DataFrame(data)\n",
    "df.to_csv('data.csv',index=False)"
   ]
  },
  {
   "cell_type": "code",
   "execution_count": 14,
   "metadata": {},
   "outputs": [],
   "source": [
    "import csv\n",
    "\n",
    "with open('data.csv','a',encoding='utf-8',newline='') as csvfile:\n",
    "\tfieldnames=['id','name','age']\n",
    "\twriter=csv.DictWriter(csvfile,fieldnames=fieldnames)\n",
    "\t\n",
    "\twriter.writerow({'id':'10004','name':'王伟','age':20})\n",
    "\t"
   ]
  },
  {
   "cell_type": "code",
   "execution_count": 15,
   "metadata": {},
   "outputs": [
    {
     "name": "stdout",
     "output_type": "stream",
     "text": [
      "['id', 'name', 'age']\n",
      "['10001', 'Mike', '20']\n",
      "['10002', 'Bob', '22']\n",
      "['10004', '王伟', '20']\n"
     ]
    }
   ],
   "source": [
    "import csv\n",
    "with open('data.csv','r',encoding='utf-8') as csvfile:\n",
    "    reader=csv.reader(csvfile)\n",
    "    for row in reader:\n",
    "        print(row)"
   ]
  },
  {
   "cell_type": "code",
   "execution_count": 3,
   "metadata": {},
   "outputs": [
    {
     "name": "stdout",
     "output_type": "stream",
     "text": [
      "      id  name  age\n",
      "0  10001  Mike   20\n",
      "1  10002   Bob   22\n",
      "2  10004    王伟   20\n"
     ]
    }
   ],
   "source": [
    "import pandas as pd\n",
    "df=pd.read_csv('data.csv')\n",
    "print(df)"
   ]
  },
  {
   "cell_type": "code",
   "execution_count": 7,
   "metadata": {},
   "outputs": [
    {
     "name": "stdout",
     "output_type": "stream",
     "text": [
      "[[10001, 'Mike', 20], [10002, 'Bob', 22], [10004, '王伟', 20]]\n"
     ]
    }
   ],
   "source": [
    "import pandas as pd\n",
    "df=pd.read_csv('data.csv')\n",
    "data=df.values.tolist()\n",
    "print(data)"
   ]
  },
  {
   "cell_type": "code",
   "execution_count": 2,
   "metadata": {},
   "outputs": [
    {
     "name": "stdout",
     "output_type": "stream",
     "text": [
      "[10001, 'Mike', 20]\n",
      "[10002, 'Bob', 22]\n",
      "[10004, '王伟', 20]\n"
     ]
    }
   ],
   "source": [
    "import pandas as pd\n",
    "df=pd.read_csv('data.csv')\n",
    "for index,row in df.iterrows():\n",
    "    print(row.tolist())\n"
   ]
  },
  {
   "cell_type": "markdown",
   "metadata": {},
   "source": [
    "MySQL"
   ]
  },
  {
   "cell_type": "code",
   "execution_count": 6,
   "metadata": {},
   "outputs": [
    {
     "name": "stdout",
     "output_type": "stream",
     "text": [
      "Database version: ('8.0.30',)\n"
     ]
    }
   ],
   "source": [
    "import pymysql\n",
    "\n",
    "db=pymysql.connect(host='localhost',user='root',password='Sc147258',port=3306)\n",
    "cursor=db.cursor()\n",
    "cursor.execute('SELECT VERSION()')\n",
    "data=cursor.fetchone()\n",
    "print('Database version:',data)\n",
    "cursor.execute('CREATE DATABASE spiders3 DEFAULT CHARACTER SET utf8mb4')\n",
    "db.close()\n"
   ]
  },
  {
   "cell_type": "code",
   "execution_count": 37,
   "metadata": {},
   "outputs": [],
   "source": [
    "db=pymysql.connect(host='localhost',user='root',password='Sc147258',port=3306,db='spiders3')\n",
    "cursor=db.cursor()\n",
    "sql='CREATE TABLE IF NOT EXISTS students (id VARCHAR(255) NOT NULL, name VARCHAR(255) NOT NULL,age INT NOT NULL,PRIMARY KEY (id))'\n",
    "cursor.execute(sql)\n",
    "db.close()"
   ]
  },
  {
   "cell_type": "code",
   "execution_count": 42,
   "metadata": {},
   "outputs": [],
   "source": [
    "import pymysql\n",
    "\n",
    "id='20120001'\n",
    "user='Bob'\n",
    "age=20\n",
    "\n",
    "db=pymysql.connect(host='localhost',user='root',password='Sc147258',port=3306,db='spiders3')\n",
    "cursor=db.cursor()\n",
    "sql='INSERT INTO students(id,name,age) values(%s,%s,%s)'\n",
    "try:\n",
    "    cursor.execute(sql,(id,user,age))\n",
    "    db.commit()\n",
    "except:\n",
    "    db.rollback()\n",
    "db.close()\n"
   ]
  },
  {
   "cell_type": "code",
   "execution_count": 45,
   "metadata": {},
   "outputs": [
    {
     "name": "stdout",
     "output_type": "stream",
     "text": [
      "Successful\n"
     ]
    }
   ],
   "source": [
    "import pymysql\n",
    "db=pymysql.connect(host='localhost',user='root',password='Sc147258',port=3306,db='spiders3')\n",
    "cursor=db.cursor()\n",
    "data={\n",
    "    'id':'20140002',\n",
    "    'name':'Bob',\n",
    "    'age':21\n",
    "}\n",
    "table='students'\n",
    "keys=','.join(data.keys())\n",
    "values=','.join(['%s']*len(data))\n",
    "\n",
    "sql=' INSERT INTO {table}({keys}) VALUES ({values})'.format(table=table,keys=keys,values=values)\n",
    "try:\n",
    "  if cursor.execute(sql,tuple(data.values())):\n",
    "        print('Successful')\n",
    "        db.commit()\n",
    "except:\n",
    "    print('Failed')\n",
    "    db.rollback()\n",
    "db.close()"
   ]
  },
  {
   "cell_type": "code",
   "execution_count": 24,
   "metadata": {},
   "outputs": [
    {
     "data": {
      "text/plain": [
       "<bound method Connection.close of <pymysql.connections.Connection object at 0x0000023584F0E590>>"
      ]
     },
     "execution_count": 24,
     "metadata": {},
     "output_type": "execute_result"
    }
   ],
   "source": [
    "import pymysql\n",
    "db=pymysql.connect(host='localhost',user='root',password='Sc147258',port=3306,db='spiders3')\n",
    "cursor=db.cursor()\n",
    "sql='UPDATE students SET age=%s WHERE name=%s'\n",
    "try:\n",
    "    cursor.execute(sql,(25,'Bob'))\n",
    "    db.commit()\n",
    "except:\n",
    "    db.rollback()\n",
    "db.close"
   ]
  },
  {
   "cell_type": "code",
   "execution_count": 50,
   "metadata": {},
   "outputs": [],
   "source": [
    "import pymysql\n",
    "db=pymysql.connect(host='localhost',user='root',password='Sc147258',port=3306,db='spiders3')\n",
    "cursor=db.cursor()\n",
    "data={\n",
    "    'id':'20130001',\n",
    "    'name':'Bob',\n",
    "    'age':21\n",
    "}\n",
    "table='students'\n",
    "keys=','.join(data.keys())\n",
    "values=','.join(['%s']*len(data))\n",
    "\n",
    "sql=' INSERT INTO {table}({keys}) VALUES ({values}) ON DUPLICATE KEY UPDATE '.format(table=table,keys=keys,values=values)\n",
    "update=','.join([\"{key}=%s\".format(key=key) for key in data])\n",
    "sql+= update\n",
    "try:\n",
    "    if cursor.execute(sql,tuple(data.values())*2):\n",
    "        print('Successful')\n",
    "        db.commit()\n",
    "except:\n",
    "    print('Failed')\n",
    "    db.rollback()\n",
    "db.close()"
   ]
  },
  {
   "attachments": {},
   "cell_type": "markdown",
   "metadata": {},
   "source": [
    "MySQL 删除"
   ]
  },
  {
   "cell_type": "code",
   "execution_count": 34,
   "metadata": {},
   "outputs": [],
   "source": [
    "import pymysql\n",
    "db=pymysql.connect(host='localhost',user='root',password='Sc147258',port=3306,db='spiders3')\n",
    "cursor=db.cursor()\n",
    "table='students'\n",
    "condition='age>20'\n",
    "\n",
    "sql='DELETE FROM {table} WHERE {condition}'.format(table=table,condition=condition)\n",
    "try:\n",
    "    cursor.execute(sql)\n",
    "    db.commit()\n",
    "except:\n",
    "    db.rollback()\n",
    "db.close()"
   ]
  },
  {
   "attachments": {},
   "cell_type": "markdown",
   "metadata": {},
   "source": [
    "MySQL 查询"
   ]
  },
  {
   "cell_type": "code",
   "execution_count": 2,
   "metadata": {},
   "outputs": [
    {
     "name": "stdout",
     "output_type": "stream",
     "text": [
      "Count: 3\n",
      "Row: ('20120001', 'Bob', 20)\n",
      "Row: ('20130001', 'Bob', 21)\n",
      "Row: ('20140002', 'Bob', 21)\n"
     ]
    }
   ],
   "source": [
    "import pymysql\n",
    "db=pymysql.connect(host='localhost',user='root',password='Sc147258',port=3306,db='spiders3')\n",
    "cursor=db.cursor()\n",
    "sql='SELECT * FROM students WHERE age>=20'\n",
    "\n",
    "try:\n",
    "        cursor.execute(sql)\n",
    "        print('Count:',cursor.rowcount)\n",
    "        row=cursor.fetchone()\n",
    "        while row:\n",
    "                print('Row:',row)\n",
    "                row=cursor.fetchone()\n",
    "except:\n",
    "        print('Error')\n",
    "\n"
   ]
  },
  {
   "cell_type": "code",
   "execution_count": 3,
   "metadata": {},
   "outputs": [
    {
     "name": "stdout",
     "output_type": "stream",
     "text": [
      "Count: 3\n",
      "One ('20120001', 'Bob', 20)\n",
      "Results (('20130001', 'Bob', 21), ('20140002', 'Bob', 21))\n",
      "Results Type <class 'tuple'>\n",
      "('20130001', 'Bob', 21)\n",
      "('20140002', 'Bob', 21)\n"
     ]
    }
   ],
   "source": [
    "import pymysql\n",
    "db=pymysql.connect(host='localhost',user='root',password='Sc147258',port=3306,db='spiders3')\n",
    "cursor=db.cursor()\n",
    "sql='SELECT * FROM students WHERE age>=20'\n",
    "\n",
    "try:\n",
    "    cursor.execute(sql)\n",
    "    print('Count:',cursor.rowcount)\n",
    "    one=cursor.fetchone()\n",
    "    print('One',one)\n",
    "    results=cursor.fetchall()\n",
    "    print('Results',results)\n",
    "    print('Results Type',type(results))\n",
    "    for row in results:\n",
    "        print(row)\n",
    "except:\n",
    "    print('Error')"
   ]
  },
  {
   "attachments": {},
   "cell_type": "markdown",
   "metadata": {},
   "source": [
    "推荐用while加fetchone来获取所有数据"
   ]
  },
  {
   "cell_type": "code",
   "execution_count": 1,
   "metadata": {},
   "outputs": [
    {
     "name": "stdout",
     "output_type": "stream",
     "text": [
      "Count: 3\n",
      "Row: ('20120001', 'Bob', 20)\n",
      "Row: ('20130001', 'Bob', 21)\n",
      "Row: ('20140002', 'Bob', 21)\n"
     ]
    }
   ],
   "source": [
    "import pymysql\n",
    "db=pymysql.connect(host='localhost',user='root',password='Sc147258',port=3306,db='spiders3')\n",
    "cursor=db.cursor()\n",
    "sql='SELECT * FROM students WHERE age>=20'\n",
    "\n",
    "try:\n",
    "    cursor.execute(sql)\n",
    "    print('Count:',cursor.rowcount)\n",
    "    row=cursor.fetchone()\n",
    "    while row:\n",
    "        print('Row:',row)\n",
    "        row=cursor.fetchone()   \n",
    "except:\n",
    "    print('Error')"
   ]
  },
  {
   "attachments": {},
   "cell_type": "markdown",
   "metadata": {},
   "source": [
    "## MongoDB"
   ]
  },
  {
   "cell_type": "code",
   "execution_count": 2,
   "metadata": {},
   "outputs": [],
   "source": [
    "import pymongo\n",
    "client=pymongo.MongoClient(host='localhost',port=27017)\n",
    "#client=pymongo.MongoClient(\"mongodb://localhost:27017\")\n",
    "#test数据库\n",
    "db=client.test\n",
    "#db=client['test']\n",
    "#指定集合\n",
    "collection=db.students\n",
    "#collection=db['students']\n"
   ]
  },
  {
   "attachments": {},
   "cell_type": "markdown",
   "metadata": {},
   "source": [
    "插入数据"
   ]
  },
  {
   "cell_type": "code",
   "execution_count": 4,
   "metadata": {},
   "outputs": [
    {
     "name": "stdout",
     "output_type": "stream",
     "text": [
      "<pymongo.results.InsertOneResult object at 0x00000274D98C2B00>\n"
     ]
    }
   ],
   "source": [
    "student = {\n",
    "    'id': '20170101',\n",
    "    'name': 'Jordan',\n",
    "    'age': 20,\n",
    "    'gender': 'male'\n",
    "}\n",
    "result = collection.insert_one(student)\n",
    "print(result)\n",
    "print(result.inserted_id)"
   ]
  },
  {
   "cell_type": "code",
   "execution_count": 5,
   "metadata": {},
   "outputs": [
    {
     "name": "stdout",
     "output_type": "stream",
     "text": [
      "<pymongo.results.InsertManyResult object at 0x00000274DB3C8340>\n"
     ]
    }
   ],
   "source": [
    "student1 = {\n",
    "    'id': '20170101',\n",
    "    'name': 'Jordan',\n",
    "    'age': 20,\n",
    "    'gender': 'male'\n",
    "}\n",
    "\n",
    "student2 = {\n",
    "    'id': '20170202',\n",
    "    'name': 'Mike',\n",
    "    'age': 21,\n",
    "    'gender': 'male'\n",
    "}\n",
    "result = collection.insert_many([student1, student2])\n",
    "print(result)\n",
    "print(result.inserted_ids)\n"
   ]
  },
  {
   "attachments": {},
   "cell_type": "markdown",
   "metadata": {},
   "source": [
    "####  查询\n",
    "find_one() 查询得到的是单个结果，find() 则返回一个生成器对象"
   ]
  },
  {
   "cell_type": "code",
   "execution_count": 6,
   "metadata": {},
   "outputs": [
    {
     "name": "stdout",
     "output_type": "stream",
     "text": [
      "<class 'dict'>\n",
      "{'_id': ObjectId('63d6393c0111e37c59b1edd5'), 'id': '20170202', 'name': 'Mike', 'age': 21, 'gender': 'male'}\n"
     ]
    }
   ],
   "source": [
    "result = collection.find_one({'name': 'Mike'})\n",
    "print(type(result))\n",
    "print(result)"
   ]
  },
  {
   "cell_type": "code",
   "execution_count": 12,
   "metadata": {},
   "outputs": [
    {
     "name": "stdout",
     "output_type": "stream",
     "text": [
      "{'_id': ObjectId('63d6387e0111e37c59b1edd3'), 'id': '20170101', 'name': 'Jordan', 'age': 20, 'gender': 'male'}\n"
     ]
    }
   ],
   "source": [
    "from bson.objectid import ObjectId\n",
    "\n",
    "result = collection.find_one({'_id': ObjectId('63d6387e0111e37c59b1edd3')})\n",
    "print(result)"
   ]
  },
  {
   "cell_type": "code",
   "execution_count": 13,
   "metadata": {},
   "outputs": [
    {
     "name": "stdout",
     "output_type": "stream",
     "text": [
      "<pymongo.cursor.Cursor object at 0x00000274DBEA39A0>\n",
      "{'_id': ObjectId('63d6387e0111e37c59b1edd3'), 'id': '20170101', 'name': 'Jordan', 'age': 20, 'gender': 'male'}\n",
      "{'_id': ObjectId('63d6393c0111e37c59b1edd4'), 'id': '20170101', 'name': 'Jordan', 'age': 20, 'gender': 'male'}\n"
     ]
    }
   ],
   "source": [
    "results = collection.find({'age': 20})\n",
    "print(results)\n",
    "for result in results:\n",
    "    print(result)"
   ]
  },
  {
   "attachments": {},
   "cell_type": "markdown",
   "metadata": {},
   "source": [
    "大于20岁"
   ]
  },
  {
   "cell_type": "code",
   "execution_count": 18,
   "metadata": {},
   "outputs": [
    {
     "name": "stdout",
     "output_type": "stream",
     "text": [
      "<pymongo.cursor.Cursor object at 0x00000274DBEA3C10>\n"
     ]
    }
   ],
   "source": [
    "results = collection.find({'age': {'$gt': 20}})\n",
    "print(results)"
   ]
  },
  {
   "attachments": {},
   "cell_type": "markdown",
   "metadata": {},
   "source": [
    "表 5-3　比较符号\n",
    "\n",
    "|  符　　号 | 含　　义    | 示　　例                        |\n",
    "| ---------- | ------------ | -------------------------- |\n",
    "|  $lt          | 小于           | {'age': {'$lt': 20}}            |\n",
    "|  $gt         | 大于           | {'age': {'$gt': 20}}           |\n",
    "|  $lte        | 小于等于    | {'age': {'$lte': 20}}          |\n",
    "|  $gte       | 大于等于    | {'age': {'$gte': 20}}         |\n",
    "|  $ne        | 不等于        | {'age': {'$ne': 20}}          |\n",
    "|  $in         | 在范围内    | {'age': {'$in': [20, 23]}}   |\n",
    "|  $nin       | 不在范围内 | {'age': {'$nin': [20, 23]}} |"
   ]
  },
  {
   "attachments": {},
   "cell_type": "markdown",
   "metadata": {},
   "source": [
    "正则匹配查询"
   ]
  },
  {
   "cell_type": "code",
   "execution_count": 20,
   "metadata": {},
   "outputs": [
    {
     "name": "stdout",
     "output_type": "stream",
     "text": [
      "{'_id': ObjectId('63d6393c0111e37c59b1edd5'), 'id': '20170202', 'name': 'Mike', 'age': 21, 'gender': 'male'}\n"
     ]
    }
   ],
   "source": [
    "results = collection.find_one({'name': {'$regex': '^M.*'}})\n",
    "print(results)"
   ]
  },
  {
   "attachments": {},
   "cell_type": "markdown",
   "metadata": {},
   "source": [
    "这里使用 $regex 来指定正则匹配，^M.* 代表以 M 开头的正则表达式。\n",
    "\n",
    "这里将一些功能符号再归类为表 5-4。\n",
    "\n",
    "表 5-4　功能符号\n",
    "\n",
    "|  符　　号 | 含　　义           | 示　　例                                                                 | 示例含义                                      |\n",
    "| ---------- | ----------------- | ------------------------------------------------------ | ------------------------------------ |\n",
    "|  $regex   | 匹配正则表达式 | {'name': {'$regex': '^M.*'}}                                     | name 以 M 开头                              |\n",
    "|  $exists    | 属性是否存在    | {'name': {'$exists': True}}                                        | name 属性存在                             |\n",
    "|  $type     | 类型判断           | {'age': {'$type': 'int'}}                                              | age 的类型为 int                            |\n",
    "|  $mod     | 数字模操作        | {'age': {'$mod': [5, 0]}}                                            | 年龄模 5 余 0                                   |\n",
    "|  $text      | 文本查询           | {'$text': {'$search': 'Mike'}}                                     | text 类型的属性中包含 Mike 字符串 |\n",
    "|  $where   | 高级条件查询    | {'$where': 'obj.fans_count == obj.follows_count'} | 自身粉丝数等于关注数                  |\n",
    "\n",
    "关于这些操作的更详细用法，可以在 MongoDB 官方文档找到：\n",
    "[https://docs.mongodb.com/manual/reference/operator/query/](https://docs.mongodb.com/manual/reference/operator/query/)。\n"
   ]
  },
  {
   "attachments": {},
   "cell_type": "markdown",
   "metadata": {},
   "source": [
    "#### 7. 计数"
   ]
  },
  {
   "cell_type": "code",
   "execution_count": 24,
   "metadata": {},
   "outputs": [
    {
     "name": "stdout",
     "output_type": "stream",
     "text": [
      "3\n",
      "2\n"
     ]
    }
   ],
   "source": [
    "count = collection.estimated_document_count()\n",
    "print(count)\n",
    "count = collection.count_documents({'age': 20})\n",
    "print(count)"
   ]
  },
  {
   "attachments": {},
   "cell_type": "markdown",
   "metadata": {},
   "source": [
    "#### 8. 排序"
   ]
  },
  {
   "cell_type": "code",
   "execution_count": 25,
   "metadata": {},
   "outputs": [
    {
     "name": "stdout",
     "output_type": "stream",
     "text": [
      "['Jordan', 'Jordan', 'Mike']\n"
     ]
    }
   ],
   "source": [
    "results = collection.find().sort('name', pymongo.ASCENDING)\n",
    "print([result['name'] for result in results])"
   ]
  },
  {
   "attachments": {},
   "cell_type": "markdown",
   "metadata": {},
   "source": [
    "#### 9. 偏移"
   ]
  },
  {
   "cell_type": "code",
   "execution_count": 26,
   "metadata": {},
   "outputs": [
    {
     "name": "stdout",
     "output_type": "stream",
     "text": [
      "['Mike']\n"
     ]
    }
   ],
   "source": [
    "results = collection.find().sort('name', pymongo.ASCENDING).skip(2)\n",
    "print([result['name'] for result in results])"
   ]
  },
  {
   "attachments": {},
   "cell_type": "markdown",
   "metadata": {},
   "source": [
    "用 limit() 方法指定要取的结果个数"
   ]
  },
  {
   "cell_type": "code",
   "execution_count": 28,
   "metadata": {},
   "outputs": [
    {
     "name": "stdout",
     "output_type": "stream",
     "text": [
      "['Jordan']\n"
     ]
    }
   ],
   "source": [
    "results = collection.find().sort('name', pymongo.ASCENDING).skip(1).limit(1)\n",
    "print([result['name'] for result in results])"
   ]
  },
  {
   "attachments": {},
   "cell_type": "markdown",
   "metadata": {},
   "source": [
    "# 值得注意的是，在数据库数量非常庞大的时候，如千万、亿级别，最好不要使用大的偏移量来查询数据，因为这样很可能导致内存溢出。此时可用_id来查询。"
   ]
  },
  {
   "cell_type": "code",
   "execution_count": 29,
   "metadata": {},
   "outputs": [
    {
     "data": {
      "text/plain": [
       "<pymongo.cursor.Cursor at 0x274dbea3d00>"
      ]
     },
     "execution_count": 29,
     "metadata": {},
     "output_type": "execute_result"
    }
   ],
   "source": [
    "from bson.objectid import ObjectId\n",
    "collection.find({'_id': {'$gt': ObjectId('593278c815c2602678bb2b8d')}})"
   ]
  },
  {
   "attachments": {},
   "cell_type": "markdown",
   "metadata": {},
   "source": [
    "#### 10. 更新"
   ]
  },
  {
   "cell_type": "code",
   "execution_count": 39,
   "metadata": {},
   "outputs": [
    {
     "name": "stdout",
     "output_type": "stream",
     "text": [
      "{'_id': ObjectId('63d6393c0111e37c59b1edd5'), 'id': '20170202', 'name': 'Mike', 'age': 25, 'gender': 'male'}\n",
      "<pymongo.results.UpdateResult object at 0x00000274DC6BC820>\n",
      "1 0\n"
     ]
    }
   ],
   "source": [
    "condition = {'name': 'Mike'}\n",
    "student = collection.find_one(condition)\n",
    "print(student)\n",
    "student['age'] = 25\n",
    "result = collection.update_one(condition,{'$set':student})\n",
    "print(result)\n",
    "print(result.matched_count, result.modified_count)\n"
   ]
  },
  {
   "cell_type": "code",
   "execution_count": 40,
   "metadata": {},
   "outputs": [
    {
     "name": "stdout",
     "output_type": "stream",
     "text": [
      "<pymongo.results.UpdateResult object at 0x00000274DB48A710>\n",
      "1 1\n"
     ]
    }
   ],
   "source": [
    "condition = {'age': {'$gt': 20}}\n",
    "result = collection.update_many(condition, {'$inc': {'age': 1}})\n",
    "print(result)\n",
    "print(result.matched_count, result.modified_count)"
   ]
  },
  {
   "attachments": {},
   "cell_type": "markdown",
   "metadata": {},
   "source": [
    "#### 11. 删除"
   ]
  },
  {
   "cell_type": "code",
   "execution_count": null,
   "metadata": {},
   "outputs": [],
   "source": [
    "result = collection.delete_one({'name': 'Kevin'})\n",
    "print(result)\n",
    "print(result.deleted_count)\n",
    "result = collection.delete_many({'age': {'$lt': 25}})\n",
    "print(result.deleted_count)"
   ]
  },
  {
   "attachments": {},
   "cell_type": "markdown",
   "metadata": {},
   "source": [
    "#### 12. 其他操作\n",
    "另外，PyMongo 还提供了一些组合方法，如 find_one_and_delete()、find_one_and_replace() 和 find_one_and_update()，它们是查找后删除、替换和更新操作，其用法与上述方法基本一致。\n",
    "\n",
    "另外，还可以对索引进行操作，相关方法有 create_index()、create_indexes() 和 drop_index() 等。\n",
    "\n",
    "关于 PyMongo 的详细用法，可以参见官方文档：[http://api.mongodb.com/python/current/api/pymongo/collection.html](http://api.mongodb.com/python/current/api/pymongo/collection.html)。\n",
    "\n",
    "另外，还有对数据库和集合本身等的一些操作，这里不再一一讲解，可以参见官方文档：[http://api.mongodb.com/python/current/api/pymongo/](http://api.mongodb.com/python/current/api/pymongo/)。\n",
    "\n"
   ]
  }
 ],
 "metadata": {
  "kernelspec": {
   "display_name": "Python 3.10.5 64-bit",
   "language": "python",
   "name": "python3"
  },
  "language_info": {
   "codemirror_mode": {
    "name": "ipython",
    "version": 3
   },
   "file_extension": ".py",
   "mimetype": "text/x-python",
   "name": "python",
   "nbconvert_exporter": "python",
   "pygments_lexer": "ipython3",
   "version": "3.10.5"
  },
  "orig_nbformat": 4,
  "vscode": {
   "interpreter": {
    "hash": "3a42c04f5095fbdc1582f2ec9caa4673319f7b4beaf1335dc026ea3e421f2fec"
   }
  }
 },
 "nbformat": 4,
 "nbformat_minor": 2
}
