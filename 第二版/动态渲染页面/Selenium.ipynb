{
 "cells": [
  {
   "cell_type": "code",
   "execution_count": null,
   "metadata": {},
   "outputs": [],
   "source": [
    "from selenium import webdriver\n",
    "from selenium.webdriver.common.by import By\n",
    "from selenium.webdriver.common.keys import Keys\n",
    "from selenium.webdriver.support import expected_conditions as EC\n",
    "from selenium.webdriver.support.wait import WebDriverWait\n",
    "\n",
    "browser = webdriver.Chrome()\n",
    "try:\n",
    "    browser.get('https://www.baidu.com')\n",
    "    input = browser.find_element(By.ID,'kw')   \n",
    "    input.send_keys('Python')\n",
    "    input.send_keys(Keys.ENTER)\n",
    "    wait = WebDriverWait(browser, 10)\n",
    "    wait.until(EC.presence_of_element_located((By.ID, 'content_left')))\n",
    "    print(browser.current_url)\n",
    "    print(browser.get_cookies())\n",
    "    print(browser.page_source)\n",
    "finally:\n",
    "    browser.close()\n"
   ]
  },
  {
   "attachments": {},
   "cell_type": "markdown",
   "metadata": {},
   "source": [
    "\n",
    "https://selenium-python.readthedocs.io/api.html"
   ]
  },
  {
   "cell_type": "code",
   "execution_count": null,
   "metadata": {},
   "outputs": [],
   "source": [
    "from selenium import webdriver\n",
    "browser=webdriver.Chrome()\n",
    "browser.get('https://www.taobao.com')\n",
    "print(browser.page_source)\n",
    "browser.close()\n"
   ]
  },
  {
   "cell_type": "code",
   "execution_count": 5,
   "metadata": {},
   "outputs": [],
   "source": [
    "from selenium import webdriver\n",
    "import time\n",
    "browser=webdriver.Chrome()\n",
    "browser.get('https://www.taobao.com')\n",
    "\n",
    "input=browser.find_element(By.ID,'q')\n",
    "input.send_keys('iPhone')\n",
    "time.sleep(1)\n",
    "input.clear()\n",
    "input.send_keys('iPad')\n",
    "button=browser.find_element(By.CLASS_NAME,'btn-search')\n",
    "button.click()\n"
   ]
  },
  {
   "cell_type": "code",
   "execution_count": 6,
   "metadata": {},
   "outputs": [],
   "source": [
    "from selenium import webdriver\n",
    "from selenium.webdriver import ActionChains\n",
    "browser=webdriver.Chrome()\n",
    "url='https://www.runoob.com/try/try.php?filename=jqueryui-api-droppable'\n",
    "browser.get(url)\n",
    "browser.switch_to.frame('iframeResult')\n",
    "source=browser.find_element(By.CSS_SELECTOR,'#draggable')\n",
    "target=browser.find_element(By.CSS_SELECTOR,'#droppable')\n",
    "actions=ActionChains(browser)\n",
    "actions.drag_and_drop(source,target)\n",
    "actions.perform()"
   ]
  },
  {
   "cell_type": "code",
   "execution_count": 7,
   "metadata": {},
   "outputs": [],
   "source": [
    "from selenium import webdriver\n",
    "browser=webdriver.Chrome()\n",
    "browser.get('https://www.zhihu.com/explore')\n",
    "browser.execute_script('window.scrollTo(0,document.body.scrollHeight)')\n",
    "browser.execute_script('alert(\"To Bottom\")')"
   ]
  },
  {
   "cell_type": "code",
   "execution_count": 9,
   "metadata": {},
   "outputs": [
    {
     "name": "stdout",
     "output_type": "stream",
     "text": [
      "<selenium.webdriver.remote.webelement.WebElement (session=\"79c3d8bc644c2700aec4842d3592b627\", element=\"b778934b-d7e9-4120-9ca7-5357c3b3a269\")>\n",
      "https://spa2.scrape.center/img/logo.a508a8f0.png\n"
     ]
    }
   ],
   "source": [
    "from selenium import webdriver\n",
    "browser=webdriver.Chrome()\n",
    "url='https://spa2.scrape.center/'\n",
    "browser.get(url)\n",
    "logo=browser.find_element(By.CLASS_NAME,'logo-image')\n",
    "print(logo)\n",
    "print(logo.get_attribute('src'))"
   ]
  },
  {
   "cell_type": "code",
   "execution_count": 11,
   "metadata": {},
   "outputs": [
    {
     "name": "stdout",
     "output_type": "stream",
     "text": [
      "<selenium.webdriver.remote.webelement.WebElement (session=\"a349e32d6bba0400e2d1faeaf9789705\", element=\"9cd54304-291c-46f1-ad56-e2bf22b62278\")>\n"
     ]
    }
   ],
   "source": [
    "from selenium import webdriver\n",
    "browser=webdriver.Chrome()\n",
    "url='https://spa2.scrape.center'\n",
    "browser.get(url)\n",
    "input=browser.find_element(By.CLASS_NAME,'logo-title')\n",
    "print(input)\n"
   ]
  },
  {
   "cell_type": "code",
   "execution_count": 12,
   "metadata": {},
   "outputs": [
    {
     "name": "stdout",
     "output_type": "stream",
     "text": [
      "7f9da708-b2a7-4a88-b29f-0ae45cd05467\n",
      "{'x': 182, 'y': 13}\n",
      "span\n",
      "{'height': 40, 'width': 77}\n"
     ]
    }
   ],
   "source": [
    "from selenium import webdriver\n",
    "browser=webdriver.Chrome()\n",
    "url='https://spa2.scrape.center'\n",
    "browser.get(url)\n",
    "input=browser.find_element(By.CLASS_NAME,'logo-title')\n",
    "print(input.id)\n",
    "print(input.location)\n",
    "print(input.tag_name)\n",
    "print(input.size)"
   ]
  },
  {
   "cell_type": "code",
   "execution_count": 13,
   "metadata": {},
   "outputs": [
    {
     "name": "stdout",
     "output_type": "stream",
     "text": [
      "NO LOGO\n",
      "<selenium.webdriver.remote.webelement.WebElement (session=\"635d22764e0612d0740094a105b73735\", element=\"e64b1024-0a5f-4402-98b6-17f2ae6eafa4\")>\n",
      "\n"
     ]
    }
   ],
   "source": [
    "import time\n",
    "from selenium import webdriver\n",
    "from selenium.common.exceptions import NoSuchElementException\n",
    "\n",
    "browser=webdriver.Chrome()\n",
    "url='http://www.runoob.com/try/try.php?filename=jqueryui-api-droppable'\n",
    "browser.get(url)\n",
    "browser.switch_to.frame('iframeResult')\n",
    "try:\n",
    "    logo=browser.find_element(By.CLASS_NAME,'logo')\n",
    "except:\n",
    "    print('NO LOGO')\n",
    "browser.switch_to.parent_frame()\n",
    "logo=browser.find_element(By.CLASS_NAME,'logo')\n",
    "print(logo)\n",
    "print(logo.text)  "
   ]
  },
  {
   "attachments": {},
   "cell_type": "markdown",
   "metadata": {},
   "source": [
    "隐式等待\n"
   ]
  },
  {
   "cell_type": "code",
   "execution_count": 15,
   "metadata": {},
   "outputs": [
    {
     "name": "stdout",
     "output_type": "stream",
     "text": [
      "<selenium.webdriver.remote.webelement.WebElement (session=\"885f96cf5a02a5164a473074b8ab8f12\", element=\"c804be2d-55bd-403c-803d-c5372ed1dcb8\")>\n"
     ]
    }
   ],
   "source": [
    "from selenium import webdriver\n",
    "browser=webdriver.Chrome()\n",
    "browser.implicitly_wait(10)\n",
    "browser.get('https://spa2.scrape.center/')\n",
    "input=browser.find_element(By.CLASS_NAME,'logo-image')\n",
    "print(input)\n",
    "\n"
   ]
  },
  {
   "attachments": {},
   "cell_type": "markdown",
   "metadata": {},
   "source": [
    "显示等待"
   ]
  },
  {
   "cell_type": "code",
   "execution_count": 16,
   "metadata": {},
   "outputs": [
    {
     "name": "stdout",
     "output_type": "stream",
     "text": [
      "<selenium.webdriver.remote.webelement.WebElement (session=\"cd7619e816fb78fbd3a967a62dc1371b\", element=\"7f921f7f-99ee-40b2-949a-0c3dc4c013a8\")> <selenium.webdriver.remote.webelement.WebElement (session=\"cd7619e816fb78fbd3a967a62dc1371b\", element=\"b35d27ce-2e72-4be6-963e-c050d40d1578\")>\n"
     ]
    }
   ],
   "source": [
    "from selenium import webdriver\n",
    "from selenium.webdriver.common.by import By\n",
    "from selenium.webdriver.support.ui import WebDriverWait\n",
    "from selenium.webdriver.support import expected_conditions as EC \n",
    "\n",
    "browser=webdriver.Chrome()\n",
    "browser.get('https://www.taobao.com/')\n",
    "wait=WebDriverWait(browser,10)\n",
    "input=wait.until(EC.presence_of_element_located((By.ID,'q')))\n",
    "button=wait.until(EC.element_to_be_clickable((By.CSS_SELECTOR,'.btn-search')))\n",
    "print(input,button)"
   ]
  },
  {
   "attachments": {},
   "cell_type": "markdown",
   "metadata": {},
   "source": [
    "前进和后退"
   ]
  },
  {
   "cell_type": "code",
   "execution_count": 19,
   "metadata": {},
   "outputs": [],
   "source": [
    "import time\n",
    "from selenium import webdriver\n",
    "browser=webdriver.Chrome()\n",
    "browser.get('https://www.baidu.com/')\n",
    "browser.get('https://www.taobao.com/')\n",
    "browser.get('https://www.python.org/')\n",
    "\n",
    "browser.back()\n",
    "time.sleep(1)\n",
    "browser.forward()\n",
    "time.sleep(1)\n",
    "browser.close()"
   ]
  },
  {
   "attachments": {},
   "cell_type": "markdown",
   "metadata": {},
   "source": [
    "Cookie"
   ]
  },
  {
   "cell_type": "code",
   "execution_count": 21,
   "metadata": {},
   "outputs": [
    {
     "name": "stdout",
     "output_type": "stream",
     "text": [
      "[{'domain': 'www.zhihu.com', 'httpOnly': False, 'name': 'KLBRSID', 'path': '/', 'sameSite': 'Lax', 'secure': False, 'value': 'af132c66e9ed2b57686ff5c489976b91|1681045016|1681045014'}, {'domain': '.zhihu.com', 'expiry': 1712581015, 'httpOnly': False, 'name': 'Hm_lvt_98beee57fd2ef70ccdd5ca52b9740c49', 'path': '/', 'sameSite': 'Lax', 'secure': False, 'value': '1681045015'}, {'domain': '.zhihu.com', 'httpOnly': False, 'name': 'Hm_lpvt_98beee57fd2ef70ccdd5ca52b9740c49', 'path': '/', 'sameSite': 'Lax', 'secure': False, 'value': '1681045015'}, {'domain': '.zhihu.com', 'expiry': 1715605014, 'httpOnly': False, 'name': 'd_c0', 'path': '/', 'sameSite': 'Lax', 'secure': False, 'value': 'AMCWOn2ZmRaPThKOvfARNiCVCTvsvpeWJqY=|1681045014'}, {'domain': 'www.zhihu.com', 'httpOnly': False, 'name': 'SESSIONID', 'path': '/', 'sameSite': 'Lax', 'secure': False, 'value': 'mmHyXEfhdBFBle8UoxUdIe98MtzM7Pr7V3YmZsMqe7J'}, {'domain': '.zhihu.com', 'httpOnly': False, 'name': '_xsrf', 'path': '/', 'sameSite': 'Lax', 'secure': False, 'value': '99350f2c-b4f2-4c04-aecd-3545906bb30f'}, {'domain': '.zhihu.com', 'expiry': 1715605014, 'httpOnly': False, 'name': '_zap', 'path': '/', 'sameSite': 'Lax', 'secure': False, 'value': '5c83f9b4-349e-42cc-81c8-9c0a798187da'}]\n",
      "[{'domain': '.www.zhihu.com', 'httpOnly': False, 'name': 'name', 'path': '/', 'sameSite': 'Lax', 'secure': True, 'value': 'germey'}, {'domain': 'www.zhihu.com', 'httpOnly': False, 'name': 'KLBRSID', 'path': '/', 'sameSite': 'Lax', 'secure': False, 'value': 'af132c66e9ed2b57686ff5c489976b91|1681045016|1681045014'}, {'domain': '.zhihu.com', 'expiry': 1712581015, 'httpOnly': False, 'name': 'Hm_lvt_98beee57fd2ef70ccdd5ca52b9740c49', 'path': '/', 'sameSite': 'Lax', 'secure': False, 'value': '1681045015'}, {'domain': '.zhihu.com', 'httpOnly': False, 'name': 'Hm_lpvt_98beee57fd2ef70ccdd5ca52b9740c49', 'path': '/', 'sameSite': 'Lax', 'secure': False, 'value': '1681045015'}, {'domain': '.zhihu.com', 'expiry': 1715605014, 'httpOnly': False, 'name': 'd_c0', 'path': '/', 'sameSite': 'Lax', 'secure': False, 'value': 'AMCWOn2ZmRaPThKOvfARNiCVCTvsvpeWJqY=|1681045014'}, {'domain': 'www.zhihu.com', 'httpOnly': False, 'name': 'SESSIONID', 'path': '/', 'sameSite': 'Lax', 'secure': False, 'value': 'mmHyXEfhdBFBle8UoxUdIe98MtzM7Pr7V3YmZsMqe7J'}, {'domain': '.zhihu.com', 'httpOnly': False, 'name': '_xsrf', 'path': '/', 'sameSite': 'Lax', 'secure': False, 'value': '99350f2c-b4f2-4c04-aecd-3545906bb30f'}, {'domain': '.zhihu.com', 'expiry': 1715605014, 'httpOnly': False, 'name': '_zap', 'path': '/', 'sameSite': 'Lax', 'secure': False, 'value': '5c83f9b4-349e-42cc-81c8-9c0a798187da'}]\n",
      "[]\n"
     ]
    }
   ],
   "source": [
    "from selenium import webdriver\n",
    "browser=webdriver.Chrome()\n",
    "browser.get('https://www.zhihu.com/explore')\n",
    "print(browser.get_cookies())\n",
    "browser.add_cookie({'name':'name','domain':'www.zhihu.com','value':'germey'})\n",
    "print(browser.get_cookies())\n",
    "browser.delete_all_cookies()\n",
    "print(browser.get_cookies())"
   ]
  },
  {
   "attachments": {},
   "cell_type": "markdown",
   "metadata": {},
   "source": [
    "选项卡管理"
   ]
  },
  {
   "cell_type": "code",
   "execution_count": 22,
   "metadata": {},
   "outputs": [
    {
     "name": "stdout",
     "output_type": "stream",
     "text": [
      "['AFFBD4FF688DDDE0AE1E7834CBE04049', '2F5128EAB0C5C7B6EEC4F8CDF2EB225C']\n"
     ]
    }
   ],
   "source": [
    "import time\n",
    "from selenium import webdriver\n",
    "browser=webdriver.Chrome()\n",
    "browser.get('htpps://www.baidu.com')\n",
    "browser.execute_script('window.open()')\n",
    "print(browser.window_handles)\n",
    "browser.switch_to.window(browser.window_handles[1])\n",
    "browser.get('https://www.taobao.com')\n",
    "time.sleep(1)\n",
    "browser.switch_to.window(browser.window_handles[0])\n",
    "browser.get('https://python.org')"
   ]
  },
  {
   "attachments": {},
   "cell_type": "markdown",
   "metadata": {},
   "source": [
    "反屏蔽"
   ]
  },
  {
   "cell_type": "code",
   "execution_count": 24,
   "metadata": {},
   "outputs": [],
   "source": [
    "from selenium import webdriver\n",
    "from selenium.webdriver import ChromeOptions\n",
    "options=ChromeOptions()\n",
    "options.add_experimental_option('excludeSwitches',['enable-automation'])\n",
    "options.add_experimental_option('useAutomationExtension',False)\n",
    "browser=webdriver.Chrome(options=options)\n",
    "browser.execute_cdp_cmd('Page.addScriptToEvaluateOnNewDocument',{'source':'Object.defineProperty(navigator,\"webdriver\",{get:() => undefined})'})\n",
    "browser.get('https://antispider1.scrape.center/')\n"
   ]
  },
  {
   "attachments": {},
   "cell_type": "markdown",
   "metadata": {},
   "source": [
    "无头模式"
   ]
  },
  {
   "cell_type": "code",
   "execution_count": 25,
   "metadata": {},
   "outputs": [
    {
     "data": {
      "text/plain": [
       "True"
      ]
     },
     "execution_count": 25,
     "metadata": {},
     "output_type": "execute_result"
    }
   ],
   "source": [
    "from selenium import webdriver\n",
    "from selenium.webdriver import ChromeOptions\n",
    "options=ChromeOptions()\n",
    "options.add_argument('--headless')\n",
    "browser=webdriver.Chrome(options=options)\n",
    "browser.set_window_size(1366,768)\n",
    "browser.get('https://www.baidu.com')\n",
    "browser.get_screenshot_as_file('baidu.png')"
   ]
  }
 ],
 "metadata": {
  "kernelspec": {
   "display_name": "Python 3",
   "language": "python",
   "name": "python3"
  },
  "language_info": {
   "codemirror_mode": {
    "name": "ipython",
    "version": 3
   },
   "file_extension": ".py",
   "mimetype": "text/x-python",
   "name": "python",
   "nbconvert_exporter": "python",
   "pygments_lexer": "ipython3",
   "version": "3.10.5"
  },
  "orig_nbformat": 4
 },
 "nbformat": 4,
 "nbformat_minor": 2
}
