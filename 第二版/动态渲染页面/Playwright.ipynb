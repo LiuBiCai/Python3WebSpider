{
 "cells": [
  {
   "attachments": {},
   "cell_type": "markdown",
   "metadata": {},
   "source": [
    "同步模式"
   ]
  },
  {
   "cell_type": "code",
   "execution_count": null,
   "metadata": {},
   "outputs": [],
   "source": [
    "from playwright.sync_api import sync_playwright\n",
    "with sync_playwright() as p:\n",
    "    for browser_type in [p.chromium, p.firefox, p.webkit]:\n",
    "        browser = browser_type.launch(headless=False)\n",
    "        page = browser.new_page()\n",
    "        page.goto(\"https://www.baidu.com\")\n",
    "        page.screenshot(path=f\"screenshot-{browser_type.name}.png\")\n",
    "        print(page.title())\n",
    "        browser.close()"
   ]
  },
  {
   "attachments": {},
   "cell_type": "markdown",
   "metadata": {},
   "source": [
    "异步模式"
   ]
  },
  {
   "cell_type": "code",
   "execution_count": null,
   "metadata": {},
   "outputs": [],
   "source": [
    "import asyncio\n",
    "from playwright.async_api import async_playwright\n",
    "async def main():\n",
    "    async with async_playwright() as p:\n",
    "        for browser_type in [p.chromium, p.firefox, p.webkit]:\n",
    "            browser = await browser_type.launch(headless=False)\n",
    "            page = await browser.new_page()\n",
    "            await page.goto(\"https://www.baidu.com\")\n",
    "            await page.screenshot(path=f\"screenshot-{browser_type.name}.png\")\n",
    "            print(await page.title())\n",
    "            await browser.close()\n",
    "asyncio.run(main())"
   ]
  },
  {
   "attachments": {},
   "cell_type": "markdown",
   "metadata": {},
   "source": [
    "代码生成"
   ]
  },
  {
   "cell_type": "code",
   "execution_count": null,
   "metadata": {
    "vscode": {
     "languageId": "powershell"
    }
   },
   "outputs": [],
   "source": [
    "playwright codegen -o script.py -b firefox"
   ]
  },
  {
   "attachments": {},
   "cell_type": "markdown",
   "metadata": {},
   "source": [
    "支持移动端浏览器"
   ]
  },
  {
   "cell_type": "code",
   "execution_count": null,
   "metadata": {},
   "outputs": [],
   "source": [
    "from playwright.sync_api import sync_playwright\n",
    "with sync_playwright as p:\n",
    "    iphone_12_por_max=p.devices[\"iPhone 12 Pro Max\"]\n",
    "    browser=p.chromium.launch(headless=False)\n",
    "    context=browser.new_context(\n",
    "        **iphone_12_por_max,\n",
    "        locale=\"zh-CN\",\n",
    "    )\n",
    "    page=context.new_page()\n",
    "    page.goto(\"https://wwww.whatismybrowser.com/\")\n",
    "    page.wait_for_load_state(\"networkidle\")\n",
    "    page.screenshot(path=\"iphone-12-pro-max.png\")\n",
    "    browser.close()"
   ]
  },
  {
   "attachments": {},
   "cell_type": "markdown",
   "metadata": {},
   "source": [
    "事件监听"
   ]
  },
  {
   "cell_type": "code",
   "execution_count": null,
   "metadata": {},
   "outputs": [],
   "source": [
    "from playwright.sync_api import sync_playwright\n",
    "def on_response(response):\n",
    "    print(f'Statue {response.status}: {response.url}')\n",
    "with sync_playwright() as p:\n",
    "    browser=p.chromium.launch(headless=False)\n",
    "    page=browser.new_page()\n",
    "    page.on('response', on_response)\n",
    "    page.goto('https://spa6.scrape.center/')\n",
    "    page.wait_for_load_state('networkidle')\n",
    "    browser.close()"
   ]
  },
  {
   "cell_type": "code",
   "execution_count": null,
   "metadata": {},
   "outputs": [],
   "source": [
    "from playwright.sync_api import sync_playwright\n",
    "def on_response(response):\n",
    "    if '/api/movie/' in response.url and response.status == 200:\n",
    "        print(response.json())\n",
    "\n",
    "with sync_playwright() as p:\n",
    "    \n",
    "    browser=p.chromium.launch(headless=False)\n",
    "    page=browser.new_page()\n",
    "    page.on('response', on_response)\n",
    "    page.goto('https://spa6.scrape.center/')\n",
    "    page.wait_for_load_state('networkidle')\n",
    "    browser.close()"
   ]
  },
  {
   "attachments": {},
   "cell_type": "markdown",
   "metadata": {},
   "source": [
    "获取节点属性"
   ]
  },
  {
   "cell_type": "code",
   "execution_count": null,
   "metadata": {},
   "outputs": [],
   "source": [
    "from playwright.sync_api import sync_playwright\n",
    "with sync_playwright() as p:\n",
    "    browser=p.chromium.launch(headless=False)\n",
    "    page=browser.new_page()\n",
    "    page.goto('https://spa6.scrape.center/')\n",
    "    page.wait_for_load_state('networkidle')\n",
    "    href=page.get_attribute('a.name', 'href')\n",
    "    print(href)\n",
    "    browser.close()\n",
    "                            "
   ]
  },
  {
   "cell_type": "code",
   "execution_count": null,
   "metadata": {},
   "outputs": [],
   "source": [
    "from playwright.sync_api import sync_playwright\n",
    "with sync_playwright() as p:\n",
    "    browser=p.chromium.launch(headless=False)\n",
    "    page=browser.new_page()\n",
    "    page.goto('https://spa6.scrape.center/')\n",
    "    page.wait_for_load_state('networkidle')\n",
    "    elements=page.query_selector_all('a.name')\n",
    "    for element in elements:\n",
    "        print(element.get_attribute('href'))\n",
    "        print(element.text_content())\n",
    "    browser.close()"
   ]
  },
  {
   "cell_type": "code",
   "execution_count": null,
   "metadata": {},
   "outputs": [],
   "source": [
    "from playwright.sync_api import sync_playwright\n",
    "with sync_playwright() as p:\n",
    "    browser=p.chromium.launch(headless=False)\n",
    "    page=browser.new_page()\n",
    "    page.goto('https://spa6.scrape.center/')\n",
    "    page.wait_for_load_state('networkidle')\n",
    "    element=page.query_selector('a.name')\n",
    "    print(element.get_attribute('href'))\n",
    "    print(element.text_content())\n",
    "    browser.close()"
   ]
  },
  {
   "attachments": {},
   "cell_type": "markdown",
   "metadata": {},
   "source": [
    "网络劫持"
   ]
  },
  {
   "cell_type": "code",
   "execution_count": null,
   "metadata": {},
   "outputs": [],
   "source": [
    "from playwright.sync_api import sync_playwright\n",
    "import re\n",
    "with sync_playwright() as p:\n",
    "    browser=p.chromium.launch(headless=False)\n",
    "    page=browser.new_page()\n",
    "\n",
    "    def cancel_request(route, request):\n",
    "        route.abort()\n",
    "\n",
    "    page.route(re.compile(r\"(\\.png)|(\\.jpg)\"),cancel_request)\n",
    "    page.goto('https://spa6.scrape.center/')\n",
    "    page.wait_for_load_state('networkidle')\n",
    "    page.screenshot(path='no_picture.png')\n",
    "    browser.close()  "
   ]
  }
 ],
 "metadata": {
  "kernelspec": {
   "display_name": "Python 3",
   "language": "python",
   "name": "python3"
  },
  "language_info": {
   "codemirror_mode": {
    "name": "ipython",
    "version": 3
   },
   "file_extension": ".py",
   "mimetype": "text/x-python",
   "name": "python",
   "nbconvert_exporter": "python",
   "pygments_lexer": "ipython3",
   "version": "3.10.5"
  },
  "orig_nbformat": 4
 },
 "nbformat": 4,
 "nbformat_minor": 2
}
