{
 "cells": [
  {
   "cell_type": "markdown",
   "metadata": {},
   "source": [
    "CSV"
   ]
  },
  {
   "cell_type": "code",
   "execution_count": 13,
   "metadata": {},
   "outputs": [],
   "source": [
    "import pandas as pd\n",
    "\n",
    "data=[\n",
    "\t{'id':'10001','name':'Mike','age':20},\n",
    "\t{'id':'10002','name':'Bob','age':22},\n",
    "]\n",
    "df=pd.DataFrame(data)\n",
    "df.to_csv('data.csv',index=False)"
   ]
  },
  {
   "cell_type": "code",
   "execution_count": 14,
   "metadata": {},
   "outputs": [],
   "source": [
    "import csv\n",
    "\n",
    "with open('data.csv','a',encoding='utf-8',newline='') as csvfile:\n",
    "\tfieldnames=['id','name','age']\n",
    "\twriter=csv.DictWriter(csvfile,fieldnames=fieldnames)\n",
    "\t\n",
    "\twriter.writerow({'id':'10004','name':'王伟','age':20})\n",
    "\t"
   ]
  },
  {
   "cell_type": "code",
   "execution_count": 15,
   "metadata": {},
   "outputs": [
    {
     "name": "stdout",
     "output_type": "stream",
     "text": [
      "['id', 'name', 'age']\n",
      "['10001', 'Mike', '20']\n",
      "['10002', 'Bob', '22']\n",
      "['10004', '王伟', '20']\n"
     ]
    }
   ],
   "source": [
    "import csv\n",
    "with open('data.csv','r',encoding='utf-8') as csvfile:\n",
    "    reader=csv.reader(csvfile)\n",
    "    for row in reader:\n",
    "        print(row)"
   ]
  },
  {
   "cell_type": "code",
   "execution_count": 3,
   "metadata": {},
   "outputs": [
    {
     "name": "stdout",
     "output_type": "stream",
     "text": [
      "      id  name  age\n",
      "0  10001  Mike   20\n",
      "1  10002   Bob   22\n",
      "2  10004    王伟   20\n"
     ]
    }
   ],
   "source": [
    "import pandas as pd\n",
    "df=pd.read_csv('data.csv')\n",
    "print(df)"
   ]
  },
  {
   "cell_type": "code",
   "execution_count": 7,
   "metadata": {},
   "outputs": [
    {
     "name": "stdout",
     "output_type": "stream",
     "text": [
      "[[10001, 'Mike', 20], [10002, 'Bob', 22], [10004, '王伟', 20]]\n"
     ]
    }
   ],
   "source": [
    "import pandas as pd\n",
    "df=pd.read_csv('data.csv')\n",
    "data=df.values.tolist()\n",
    "print(data)"
   ]
  },
  {
   "cell_type": "code",
   "execution_count": 2,
   "metadata": {},
   "outputs": [
    {
     "name": "stdout",
     "output_type": "stream",
     "text": [
      "[10001, 'Mike', 20]\n",
      "[10002, 'Bob', 22]\n",
      "[10004, '王伟', 20]\n"
     ]
    }
   ],
   "source": [
    "import pandas as pd\n",
    "df=pd.read_csv('data.csv')\n",
    "for index,row in df.iterrows():\n",
    "    print(row.tolist())\n"
   ]
  },
  {
   "cell_type": "markdown",
   "metadata": {},
   "source": [
    "MySQL"
   ]
  },
  {
   "cell_type": "code",
   "execution_count": 6,
   "metadata": {},
   "outputs": [
    {
     "name": "stdout",
     "output_type": "stream",
     "text": [
      "Database version: ('8.0.30',)\n"
     ]
    }
   ],
   "source": [
    "import pymysql\n",
    "\n",
    "db=pymysql.connect(host='localhost',user='root',password='Sc147258',port=3306)\n",
    "cursor=db.cursor()\n",
    "cursor.execute('SELECT VERSION()')\n",
    "data=cursor.fetchone()\n",
    "print('Database version:',data)\n",
    "cursor.execute('CREATE DATABASE spiders3 DEFAULT CHARACTER SET utf8mb4')\n",
    "db.close()\n"
   ]
  },
  {
   "cell_type": "code",
   "execution_count": 37,
   "metadata": {},
   "outputs": [],
   "source": [
    "db=pymysql.connect(host='localhost',user='root',password='Sc147258',port=3306,db='spiders3')\n",
    "cursor=db.cursor()\n",
    "sql='CREATE TABLE IF NOT EXISTS students (id VARCHAR(255) NOT NULL, name VARCHAR(255) NOT NULL,age INT NOT NULL,PRIMARY KEY (id))'\n",
    "cursor.execute(sql)\n",
    "db.close()"
   ]
  },
  {
   "cell_type": "code",
   "execution_count": 42,
   "metadata": {},
   "outputs": [],
   "source": [
    "import pymysql\n",
    "\n",
    "id='20120001'\n",
    "user='Bob'\n",
    "age=20\n",
    "\n",
    "db=pymysql.connect(host='localhost',user='root',password='Sc147258',port=3306,db='spiders3')\n",
    "cursor=db.cursor()\n",
    "sql='INSERT INTO students(id,name,age) values(%s,%s,%s)'\n",
    "try:\n",
    "    cursor.execute(sql,(id,user,age))\n",
    "    db.commit()\n",
    "except:\n",
    "    db.rollback()\n",
    "db.close()\n"
   ]
  },
  {
   "cell_type": "code",
   "execution_count": 45,
   "metadata": {},
   "outputs": [
    {
     "name": "stdout",
     "output_type": "stream",
     "text": [
      "Successful\n"
     ]
    }
   ],
   "source": [
    "import pymysql\n",
    "db=pymysql.connect(host='localhost',user='root',password='Sc147258',port=3306,db='spiders3')\n",
    "cursor=db.cursor()\n",
    "data={\n",
    "    'id':'20140002',\n",
    "    'name':'Bob',\n",
    "    'age':21\n",
    "}\n",
    "table='students'\n",
    "keys=','.join(data.keys())\n",
    "values=','.join(['%s']*len(data))\n",
    "\n",
    "sql=' INSERT INTO {table}({keys}) VALUES ({values})'.format(table=table,keys=keys,values=values)\n",
    "try:\n",
    "  if cursor.execute(sql,tuple(data.values())):\n",
    "        print('Successful')\n",
    "        db.commit()\n",
    "except:\n",
    "    print('Failed')\n",
    "    db.rollback()\n",
    "db.close()"
   ]
  },
  {
   "cell_type": "code",
   "execution_count": 24,
   "metadata": {},
   "outputs": [
    {
     "data": {
      "text/plain": [
       "<bound method Connection.close of <pymysql.connections.Connection object at 0x0000023584F0E590>>"
      ]
     },
     "execution_count": 24,
     "metadata": {},
     "output_type": "execute_result"
    }
   ],
   "source": [
    "import pymysql\n",
    "db=pymysql.connect(host='localhost',user='root',password='Sc147258',port=3306,db='spiders3')\n",
    "cursor=db.cursor()\n",
    "sql='UPDATE students SET age=%s WHERE name=%s'\n",
    "try:\n",
    "    cursor.execute(sql,(25,'Bob'))\n",
    "    db.commit()\n",
    "except:\n",
    "    db.rollback()\n",
    "db.close"
   ]
  },
  {
   "cell_type": "code",
   "execution_count": 50,
   "metadata": {},
   "outputs": [],
   "source": [
    "import pymysql\n",
    "db=pymysql.connect(host='localhost',user='root',password='Sc147258',port=3306,db='spiders3')\n",
    "cursor=db.cursor()\n",
    "data={\n",
    "    'id':'20130001',\n",
    "    'name':'Bob',\n",
    "    'age':21\n",
    "}\n",
    "table='students'\n",
    "keys=','.join(data.keys())\n",
    "values=','.join(['%s']*len(data))\n",
    "\n",
    "sql=' INSERT INTO {table}({keys}) VALUES ({values}) ON DUPLICATE KEY UPDATE '.format(table=table,keys=keys,values=values)\n",
    "update=','.join([\"{key}=%s\".format(key=key) for key in data])\n",
    "sql+= update\n",
    "try:\n",
    "    if cursor.execute(sql,tuple(data.values())*2):\n",
    "        print('Successful')\n",
    "        db.commit()\n",
    "except:\n",
    "    print('Failed')\n",
    "    db.rollback()\n",
    "db.close()"
   ]
  },
  {
   "attachments": {},
   "cell_type": "markdown",
   "metadata": {},
   "source": [
    "MySQL 删除"
   ]
  },
  {
   "cell_type": "code",
   "execution_count": 34,
   "metadata": {},
   "outputs": [],
   "source": [
    "import pymysql\n",
    "db=pymysql.connect(host='localhost',user='root',password='Sc147258',port=3306,db='spiders3')\n",
    "cursor=db.cursor()\n",
    "table='students'\n",
    "condition='age>20'\n",
    "\n",
    "sql='DELETE FROM {table} WHERE {condition}'.format(table=table,condition=condition)\n",
    "try:\n",
    "    cursor.execute(sql)\n",
    "    db.commit()\n",
    "except:\n",
    "    db.rollback()\n",
    "db.close()"
   ]
  },
  {
   "attachments": {},
   "cell_type": "markdown",
   "metadata": {},
   "source": [
    "MySQL 查询"
   ]
  },
  {
   "cell_type": "code",
   "execution_count": 2,
   "metadata": {},
   "outputs": [
    {
     "name": "stdout",
     "output_type": "stream",
     "text": [
      "Count: 3\n",
      "Row: ('20120001', 'Bob', 20)\n",
      "Row: ('20130001', 'Bob', 21)\n",
      "Row: ('20140002', 'Bob', 21)\n"
     ]
    }
   ],
   "source": [
    "import pymysql\n",
    "db=pymysql.connect(host='localhost',user='root',password='Sc147258',port=3306,db='spiders3')\n",
    "cursor=db.cursor()\n",
    "sql='SELECT * FROM students WHERE age>=20'\n",
    "\n",
    "try:\n",
    "        cursor.execute(sql)\n",
    "        print('Count:',cursor.rowcount)\n",
    "        row=cursor.fetchone()\n",
    "        while row:\n",
    "                print('Row:',row)\n",
    "                row=cursor.fetchone()\n",
    "except:\n",
    "        print('Error')\n",
    "\n"
   ]
  },
  {
   "cell_type": "code",
   "execution_count": 3,
   "metadata": {},
   "outputs": [
    {
     "name": "stdout",
     "output_type": "stream",
     "text": [
      "Count: 3\n",
      "One ('20120001', 'Bob', 20)\n",
      "Results (('20130001', 'Bob', 21), ('20140002', 'Bob', 21))\n",
      "Results Type <class 'tuple'>\n",
      "('20130001', 'Bob', 21)\n",
      "('20140002', 'Bob', 21)\n"
     ]
    }
   ],
   "source": [
    "import pymysql\n",
    "db=pymysql.connect(host='localhost',user='root',password='Sc147258',port=3306,db='spiders3')\n",
    "cursor=db.cursor()\n",
    "sql='SELECT * FROM students WHERE age>=20'\n",
    "\n",
    "try:\n",
    "    cursor.execute(sql)\n",
    "    print('Count:',cursor.rowcount)\n",
    "    one=cursor.fetchone()\n",
    "    print('One',one)\n",
    "    results=cursor.fetchall()\n",
    "    print('Results',results)\n",
    "    print('Results Type',type(results))\n",
    "    for row in results:\n",
    "        print(row)\n",
    "except:\n",
    "    print('Error')"
   ]
  },
  {
   "cell_type": "markdown",
   "metadata": {},
   "source": []
  },
  {
   "cell_type": "code",
   "execution_count": null,
   "metadata": {},
   "outputs": [],
   "source": []
  }
 ],
 "metadata": {
  "kernelspec": {
   "display_name": "Python 3.10.5 64-bit",
   "language": "python",
   "name": "python3"
  },
  "language_info": {
   "codemirror_mode": {
    "name": "ipython",
    "version": 3
   },
   "file_extension": ".py",
   "mimetype": "text/x-python",
   "name": "python",
   "nbconvert_exporter": "python",
   "pygments_lexer": "ipython3",
   "version": "3.10.5"
  },
  "orig_nbformat": 4,
  "vscode": {
   "interpreter": {
    "hash": "3a42c04f5095fbdc1582f2ec9caa4673319f7b4beaf1335dc026ea3e421f2fec"
   }
  }
 },
 "nbformat": 4,
 "nbformat_minor": 2
}
