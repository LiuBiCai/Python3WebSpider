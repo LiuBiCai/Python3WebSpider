{
 "cells": [
  {
   "attachments": {},
   "cell_type": "markdown",
   "metadata": {},
   "source": [
    "Python中用协程 常用库 asyncio"
   ]
  },
  {
   "cell_type": "code",
   "execution_count": null,
   "metadata": {},
   "outputs": [],
   "source": [
    "import asyncio\n",
    "\n",
    "async def execute(x):\n",
    "    print('Number:',x)\n",
    "\n",
    "coroutine=execute(1)\n",
    "print('Coroutine:',coroutine)\n",
    "print('After calling execute')\n",
    "\n",
    "loop=asyncio.new_event_loop()\n",
    "loop.run_until_complete(coroutine)\n",
    "print('After calling loop')\n",
    "\n"
   ]
  }
 ],
 "metadata": {
  "kernelspec": {
   "display_name": "Python 3",
   "language": "python",
   "name": "python3"
  },
  "language_info": {
   "codemirror_mode": {
    "name": "ipython",
    "version": 3
   },
   "file_extension": ".py",
   "mimetype": "text/x-python",
   "name": "python",
   "nbconvert_exporter": "python",
   "pygments_lexer": "ipython3",
   "version": "3.10.5"
  },
  "orig_nbformat": 4
 },
 "nbformat": 4,
 "nbformat_minor": 2
}
